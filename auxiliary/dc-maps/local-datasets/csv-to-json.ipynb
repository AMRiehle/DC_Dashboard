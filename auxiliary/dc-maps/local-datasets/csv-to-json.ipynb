{
 "cells": [
  {
   "cell_type": "code",
   "execution_count": 1,
   "metadata": {
    "collapsed": true
   },
   "outputs": [],
   "source": [
    "import pandas as pd\n",
    "from pandas.io.json import json_normalize"
   ]
  },
  {
   "cell_type": "code",
   "execution_count": 2,
   "metadata": {
    "collapsed": false
   },
   "outputs": [],
   "source": [
    "data2012 = pd.read_json(\"https://raw.githubusercontent.com/benbalter/dc-maps/master/maps/crime-incidents-2012.geojson\")\n",
    "data2013 = pd.read_json(\"https://raw.githubusercontent.com/benbalter/dc-maps/master/maps/crime-incidents-2013.geojson\")\n",
    "data2014 = pd.read_json(\"https://raw.githubusercontent.com/benbalter/dc-maps/master/maps/crime-incidents-2014.geojson\")\n",
    "data2015 = pd.read_json(\"https://raw.githubusercontent.com/benbalter/dc-maps/master/maps/crime-incidents-2015.geojson\")\n",
    "data2016 = pd.read_json(\"https://raw.githubusercontent.com/benbalter/dc-maps/master/maps/crime-incidents-2016.geojson\")"
   ]
  },
  {
   "cell_type": "code",
   "execution_count": 3,
   "metadata": {
    "collapsed": true
   },
   "outputs": [],
   "source": [
    "df1 = json_normalize(data2012[\"features\"])\n",
    "df2 = json_normalize(data2013[\"features\"])\n",
    "df3 = json_normalize(data2014[\"features\"])\n",
    "df4 = json_normalize(data2015[\"features\"])\n",
    "df5 = json_normalize(data2016[\"features\"])"
   ]
  },
  {
   "cell_type": "code",
   "execution_count": 4,
   "metadata": {
    "collapsed": false
   },
   "outputs": [
    {
     "data": {
      "text/plain": [
       "THEFT/OTHER                   62017\n",
       "THEFT F/AUTO                  48609\n",
       "ROBBERY                       16725\n",
       "BURGLARY                      13982\n",
       "MOTOR VEHICLE THEFT           12949\n",
       "ASSAULT W/DANGEROUS WEAPON    11128\n",
       "SEX ABUSE                      1320\n",
       "HOMICIDE                        541\n",
       "ARSON                           117\n",
       "Name: properties.OFFENSE, dtype: int64"
      ]
     },
     "execution_count": 4,
     "metadata": {},
     "output_type": "execute_result"
    }
   ],
   "source": [
    "frames = [df1, df2, df3, df4, df5]\n",
    "df = pd.concat(frames)\n",
    "df['properties.OFFENSE'].value_counts()"
   ]
  },
  {
   "cell_type": "code",
   "execution_count": 5,
   "metadata": {
    "collapsed": false
   },
   "outputs": [
    {
     "data": {
      "text/plain": [
       "Index([u'geometry.coordinates', u'geometry.type', u'properties.ANC',\n",
       "       u'properties.BLOCKSITEADDRESS', u'properties.BLOCKXCOORD',\n",
       "       u'properties.BLOCKYCOORD', u'properties.BLOCK_GROUP',\n",
       "       u'properties.BUSINESSIMPROVEMENTDISTRICT', u'properties.CCN',\n",
       "       u'properties.CENSUS_TRACT', u'properties.DISTRICT',\n",
       "       u'properties.END_DATE', u'properties.LASTMODIFIEDDATE',\n",
       "       u'properties.METHOD', u'properties.NEIGHBORHOODCLUSTER',\n",
       "       u'properties.OBJECTID', u'properties.OFFENSE', u'properties.PSA',\n",
       "       u'properties.REPORTDATETIME', u'properties.SHIFT',\n",
       "       u'properties.START_DATE', u'properties.VOTING_PRECINCT',\n",
       "       u'properties.WARD', u'type'],\n",
       "      dtype='object')"
      ]
     },
     "execution_count": 5,
     "metadata": {},
     "output_type": "execute_result"
    }
   ],
   "source": [
    "df.columns"
   ]
  }
 ],
 "metadata": {
  "kernelspec": {
   "display_name": "Python 2",
   "language": "python",
   "name": "python2"
  },
  "language_info": {
   "codemirror_mode": {
    "name": "ipython",
    "version": 2
   },
   "file_extension": ".py",
   "mimetype": "text/x-python",
   "name": "python",
   "nbconvert_exporter": "python",
   "pygments_lexer": "ipython2",
   "version": "2.7.11"
  }
 },
 "nbformat": 4,
 "nbformat_minor": 2
}
