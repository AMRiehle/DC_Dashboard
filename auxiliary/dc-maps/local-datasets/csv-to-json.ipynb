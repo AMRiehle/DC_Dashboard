{
 "cells": [
  {
   "cell_type": "code",
   "execution_count": 2,
   "metadata": {
    "collapsed": true
   },
   "outputs": [],
   "source": [
    "import pandas as pd"
   ]
  },
  {
   "cell_type": "code",
   "execution_count": 25,
   "metadata": {
    "collapsed": false
   },
   "outputs": [
    {
     "data": {
      "text/plain": [
       "THEFT/OTHER                   8385\n",
       "THEFT F/AUTO                  6332\n",
       "ROBBERY                       1894\n",
       "MOTOR VEHICLE THEFT           1524\n",
       "ASSAULT W/DANGEROUS WEAPON    1513\n",
       "BURGLARY                      1292\n",
       "SEX ABUSE                      173\n",
       "HOMICIDE                        83\n",
       "ARSON                            4\n",
       "Name: properties.OFFENSE, dtype: int64"
      ]
     },
     "execution_count": 25,
     "metadata": {},
     "output_type": "execute_result"
    }
   ],
   "source": [
    "geojson = pd.read_json(\"https://raw.githubusercontent.com/benbalter/dc-maps/master/maps/crime-incidents-2016.geojson\")\n",
    "from pandas.io.json import json_normalize\n",
    "df = json_normalize(geojson[\"features\"])\n",
    "df['properties.OFFENSE'].value_counts()"
   ]
  }
 ],
 "metadata": {
  "kernelspec": {
   "display_name": "Python 2",
   "language": "python",
   "name": "python2"
  },
  "language_info": {
   "codemirror_mode": {
    "name": "ipython",
    "version": 2
   },
   "file_extension": ".py",
   "mimetype": "text/x-python",
   "name": "python",
   "nbconvert_exporter": "python",
   "pygments_lexer": "ipython2",
   "version": "2.7.11"
  }
 },
 "nbformat": 4,
 "nbformat_minor": 2
}
