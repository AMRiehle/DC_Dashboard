{
 "cells": [
  {
   "cell_type": "code",
   "execution_count": 7,
   "metadata": {},
   "outputs": [],
   "source": [
    "import csv\n",
    "import glob\n",
    "import pymongo"
   ]
  },
  {
   "cell_type": "code",
   "execution_count": 8,
   "metadata": {},
   "outputs": [],
   "source": [
    "conn = 'mongodb://localhost:27017'\n",
    "client = pymongo.MongoClient(conn)"
   ]
  },
  {
   "cell_type": "code",
   "execution_count": 9,
   "metadata": {},
   "outputs": [],
   "source": [
    "db = client.dc_dashboard_db\n",
    "filepaths = glob.glob('*.csv')"
   ]
  },
  {
   "cell_type": "code",
   "execution_count": 16,
   "metadata": {},
   "outputs": [],
   "source": [
    "for filename in filepaths:\n",
    "    with open(filename, 'r', newline='', encoding='latin-1') as csvfile:\n",
    "        coll_name = filename[:-4]\n",
    "        \n",
    "        with open(filename) as csv_for_header:\n",
    "            head_reader = csv.reader(csv_for_header)\n",
    "            header = next(head_reader)\n",
    "#             print(header)\n",
    "            \n",
    "            csvreader = csv.DictReader(csvfile)\n",
    "            for el in csvreader:\n",
    "                row = {}\n",
    "#                 print(el)\n",
    "            \n",
    "                for field in header:\n",
    "\n",
    "                    row[field] = el[field]\n",
    "#                 print(row)\n",
    "                db[coll_name].replace_one(row, row, upsert=True)"
   ]
  },
  {
   "cell_type": "code",
   "execution_count": 4,
   "metadata": {},
   "outputs": [],
   "source": []
  }
 ],
 "metadata": {
  "kernelspec": {
   "display_name": "Python 3",
   "language": "python",
   "name": "python3"
  },
  "language_info": {
   "codemirror_mode": {
    "name": "ipython",
    "version": 3
   },
   "file_extension": ".py",
   "mimetype": "text/x-python",
   "name": "python",
   "nbconvert_exporter": "python",
   "pygments_lexer": "ipython3",
   "version": "3.6.5"
  }
 },
 "nbformat": 4,
 "nbformat_minor": 2
}
